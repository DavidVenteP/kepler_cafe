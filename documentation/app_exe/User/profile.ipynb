{
 "cells": [
  {
   "cell_type": "markdown",
   "metadata": {},
   "source": [
    "Funcionamiento de Ver Datos del Perfil"
   ]
  },
  {
   "cell_type": "markdown",
   "metadata": {},
   "source": [
    "1. °URL: **/accounts/me/**\n",
    "    \n",
    "    Devuelve el html para ver la información del perfil.\n",
    "\n",
    "2. °Variables que envía:\n",
    "\n",
    "    - user: Esta variable es para obtener datos del usuario como validar si ya tiene autenticada y devolverla al Home.\n",
    "\n",
    "    - errors: Es una lista de diccionarios con los errores que se hayan realizado, cada registro de la lista es un diccionario con las llaves:\n",
    "\n",
    "        - title: Título del error.\n",
    "\n",
    "        - content: Descripción del error.\n",
    "\n",
    "    - identification: Tipo Int\n",
    "\n",
    "    - first_name: Tipo Char(50)\n",
    "\n",
    "    - last_name: Tipo Char(50)\n",
    "\n",
    "    - email: Tipo Char(255)\n",
    "\n",
    "    - phone_number: Tipo Char(50)\n",
    "\n",
    "    - password: Tipo Char(20)\n",
    "\n",
    "    - salary: Tipo Float\n",
    "\n",
    "    - entrance_date: Tipo Datetime\n",
    "\n",
    "    - is_staff: Tipo Bool (Si es empleado o no)\n",
    "\n",
    "    - is_superuser: Tipo Bool (Si es admin o no)\n",
    "\n",
    "    - charge_id: Tipo Int\n",
    "\n",
    "    - charge_list: Lista de diccionarios de cargos con las llaves: 'id', 'name'\n",
    "\n",
    "3. °Variables que recibe:\n",
    "\n",
    "    - identification: Tipo Int\n",
    "\n",
    "    - first_name: Tipo Char(50)\n",
    "\n",
    "    - last_name: Tipo Char(50)\n",
    "\n",
    "    - email: Tipo Char(255)\n",
    "\n",
    "    - phone_number: Tipo Char(50)\n",
    "\n",
    "    - password: Tipo Char(20)\n",
    "\n",
    "    - salary: Tipo Float\n",
    "\n",
    "    - entrance_date: Tipo Datetime\n",
    "\n",
    "    - is_staff: Tipo Bool (Si es empleado o no)\n",
    "\n",
    "    - is_superuser: Tipo Bool (Si es admin o no)\n",
    "\n",
    "    - charge_id: Tipo Int\n",
    "\n",
    "    "
   ]
  }
 ],
 "metadata": {
  "language_info": {
   "name": "python"
  },
  "orig_nbformat": 4
 },
 "nbformat": 4,
 "nbformat_minor": 2
}
