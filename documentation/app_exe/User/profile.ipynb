{
 "cells": [
  {
   "cell_type": "markdown",
   "metadata": {},
   "source": [
    "Funcionamiento de Ver Datos del Perfil"
   ]
  },
  {
   "cell_type": "markdown",
   "metadata": {},
   "source": [
    "1. °URL: **/accounts/me/**\n",
    "    \n",
    "    Devuelve el html para ver la información del perfil.\n",
    "\n",
    "2. °Variables que envía: **GET**\n",
    "\n",
    "    - user: Esta variable es para obtener datos del usuario como validar si ya tiene autenticada y devolverla al Login, o para conocer los apellidos, nombres, etc.\n",
    "\n",
    "        - identification: Tipo Int\n",
    "\n",
    "        - first_name: Tipo Char(50)\n",
    "\n",
    "        - last_name: Tipo Char(50)\n",
    "\n",
    "        - email: Tipo Char(255)\n",
    "\n",
    "        - phone_number: Tipo Char(50)\n",
    "\n",
    "        - salary: Tipo Float _(Puede ser nulo así que se debe validar que rol tiene el usuario)_\n",
    "\n",
    "        - entrance_date: Tipo Datetime\n",
    "\n",
    "        - birth_date: Tipo Date\n",
    "\n",
    "        - is_staff: Tipo Bool _(Si es empleado o no)_\n",
    "\n",
    "        - is_superuser: Tipo Bool _(Si es admin o no)_\n",
    "\n",
    "        - charge_id: Tipo Int _(Puede ser nulo así que se debe validar que rol tiene el usuario)_\n",
    "\n",
    "    - charge_list: Lista de diccionarios de cargos con las llaves: 'id', 'name' _(Puede estar vacío así que se debe validar que rol tiene el usuario)_\n",
    "\n",
    "    - errors: Es una lista de diccionarios con los errores que se hayan realizado, cada registro de la lista es un diccionario con las llaves:\n",
    "\n",
    "        - title: Título del error.\n",
    "\n",
    "        - content: Descripción del error.\n",
    "\n",
    "    - message: Diccionary _(Permite validar si la actualización del perfil fue correcta o n. Validar si viene vacía es que apenas se está ingresando a la página, si viene con información es porque se dio clic en el botón **Guardar** y se está notificando al usuario lo que ocurrió)_\n",
    "\n",
    "        El diccionario si no viene vacío, tiene lo siguiente:\n",
    "\n",
    "        - title: Título del mensaje _(Actualización de perfil correcto o incorrecto)_\n",
    "\n",
    "        - content: Contenido del mensaje _(Breve descripción de lo que sucedió)_\n",
    "        \n",
    "    - shopping_car_quantity: Tipo int (Cantidad de productos en el carrito actual).\n",
    "\n",
    "3. °Variables que recibe: **POST AJAX- NO FORM**\n",
    "\n",
    "    - identification: Tipo Int\n",
    "\n",
    "    - first_name: Tipo Char(50)\n",
    "\n",
    "    - last_name: Tipo Char(50)\n",
    "\n",
    "    - email: Tipo Char(255)\n",
    "\n",
    "    - phone_number: Tipo Char(50)\n",
    "\n",
    "    - password: Tipo Char(20)\n",
    "\n",
    "4. Nombre y ruta del HTML: **user/user.html**\n",
    "    "
   ]
  }
 ],
 "metadata": {
  "language_info": {
   "name": "python"
  },
  "orig_nbformat": 4
 },
 "nbformat": 4,
 "nbformat_minor": 2
}
