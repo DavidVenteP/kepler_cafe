{
 "cells": [
  {
   "cell_type": "markdown",
   "metadata": {},
   "source": [
    "Funcionamiento de Inicio de sesión"
   ]
  },
  {
   "cell_type": "markdown",
   "metadata": {},
   "source": [
    "1. °URL: **/accounts/login/**\n",
    "    \n",
    "    Devuelve el html para realizar el inicio de sesión.\n",
    "\n",
    "2. °Variables que envía:\n",
    "\n",
    "    - user: Esta variable es para obtener datos del usuario como validar si ya tiene autenticada y devolverla al Home.\n",
    "\n",
    "\n",
    "3. °Variables que recibe:\n",
    "\n",
    "    - username: Tipo Char(255)\n",
    "\n",
    "    - password: Tipo Char(20)\n",
    "\n",
    "4. Nombre y ruta del HTML: **registration/login.html**\n",
    "    "
   ]
  }
 ],
 "metadata": {
  "language_info": {
   "name": "python"
  },
  "orig_nbformat": 4
 },
 "nbformat": 4,
 "nbformat_minor": 2
}
