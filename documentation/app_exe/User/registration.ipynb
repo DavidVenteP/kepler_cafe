{
 "cells": [
  {
   "cell_type": "markdown",
   "metadata": {},
   "source": [
    "Funcionamiento de Registo"
   ]
  },
  {
   "cell_type": "markdown",
   "metadata": {},
   "source": [
    "1. °URL: **/accounts/signup/**\n",
    "    \n",
    "    Devuelve el html para realizar el registro.\n",
    "\n",
    "2. °Variables que envía:\n",
    "\n",
    "    - user: Esta variable es para obtener datos del usuario como validar si ya tiene autenticada y devolverla al Home.\n",
    "\n",
    "    - errors: Es una lista de diccionarios con los errores que se hayan realizado, cada registro de la lista es un diccionario con las llaves:\n",
    "\n",
    "        - title: Título del error.\n",
    "\n",
    "        - content: Descripción del error.\n",
    "\n",
    "3. °Variables que recibe:\n",
    "\n",
    "    - identification: Tipo Int\n",
    "\n",
    "    - first_name: Tipo Char(50)\n",
    "\n",
    "    - last_name: Tipo Char(50)\n",
    "\n",
    "    - email: Tipo Char(255)\n",
    "\n",
    "    - phone_number: Tipo Char(50)\n",
    "\n",
    "    - password: Tipo Char(20)\n",
    "    \n",
    "4. Nombre y ruta del HTML: **registration/signup.html**\n",
    "\n",
    "    "
   ]
  }
 ],
 "metadata": {
  "language_info": {
   "name": "python"
  },
  "orig_nbformat": 4
 },
 "nbformat": 4,
 "nbformat_minor": 2
}
