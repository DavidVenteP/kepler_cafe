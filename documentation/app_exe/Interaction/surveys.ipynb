{
 "cells": [
  {
   "cell_type": "markdown",
   "metadata": {},
   "source": [
    "Funcionamiento para obtener las encuestas realizadas y por hacer."
   ]
  },
  {
   "cell_type": "markdown",
   "metadata": {},
   "source": [
    "1. °URL: **/surveys/me/** name: **surveys_me** **GET**\n",
    "    \n",
    "    Devuelve el html para conocer las encuestas disponibles a realizar en la aplicación.\n",
    "\n",
    "2. °Variables que envía:\n",
    "\n",
    "    - user: Esta variable es para obtener datos del usuario como validar si ya tiene autenticada y devolverla al Home.\n",
    "\n",
    "    - surveys_to_do_list: Lista de encuestas por realizar, contiene:\n",
    "\n",
    "        - survey_id: Tipo Char _(Identificación de la encuesta)_.\n",
    "\n",
    "        - name: Tipo Char _(Nombre de la encuesta)_.\n",
    "        \n",
    "        - question_description: Tipo Char _(Contenido de la pregunta o encuesta, ejemplo: ¿Qué te parece nuestro servicio?)_\n",
    "\n",
    "        - with_product: Tipo Bool _(Permite conocer si la encuesta va ligada con un producto o es independiente)_\n",
    "\n",
    "        - product_id: Tipo Int _(Si va ligada a un producto, este campo será del identificador del producto)_\n",
    "\n",
    "        - product_name: Tipo Char _(Si va ligada a un producto, este campo será el nombre del producto)_\n",
    "    \n",
    "    - surveys_done_list: Lista de encuestas ya realizadas, contiene:\n",
    "\n",
    "        - name: Tipo Char _(Nombre de la encuesta)_.\n",
    "        \n",
    "        - question_description: Tipo Char _(Contenido de la pregunta o encuesta, ejemplo: ¿Qué te parece nuestro servicio?)_\n",
    "\n",
    "        - with_product: Tipo Bool _(Permite conocer si la encuesta va ligada con un producto o es independiente)_\n",
    "\n",
    "        - product_id: Tipo Int _(Si va ligada a un producto, este campo será del identificador del producto)_\n",
    "\n",
    "        - product_name: Tipo Char _(Si va ligada a un producto, este campo será el nombre del producto)_\n",
    "\n",
    "        - answer_description: Tipo Char _(Respuesta que tuvo el cliente)_\n",
    "\n",
    "        - score: Tipo Int _(Puntuación que le dio el cliente)_\n",
    "\n",
    "        - creation_date_format: Tipo Date _(Fecha en el que el cliente dio respuesta a la encuesta o pregunta)_\n",
    "\n",
    "    - shopping_car_quantity: Cantidad de productos añadidos al carrito. Tipo Int\n",
    "\n",
    "3. °Variables que recibe:\n",
    "\n",
    "4. Nombre y ruta del HTML: **interaction/surveys.html**\n",
    "    "
   ]
  },
  {
   "cell_type": "markdown",
   "metadata": {},
   "source": [
    "Funcionamiento para realizar la encuestas seleccionada."
   ]
  },
  {
   "cell_type": "markdown",
   "metadata": {},
   "source": [
    "1. °URL: **/surveys/do?product=&survey=** name: **surveys_do** **GET**\n",
    "    \n",
    "    Devuelve el html para conocer las encuestas disponibles a realizar en la aplicación.\n",
    "\n",
    "2. °Variables que envía: **GET**\n",
    "\n",
    "    - user: Esta variable es para obtener datos del usuario como validar si ya tiene autenticada y devolverla al Home.\n",
    "\n",
    "    - survey_id: Tipo Char _(Identificación de la encuesta)_.\n",
    "\n",
    "    - name: Tipo Char _(Nombre de la encuesta)_.\n",
    "    \n",
    "    - question_description: Tipo Char _(Contenido de la pregunta o encuesta, ejemplo: ¿Qué te parece nuestro servicio?)_\n",
    "\n",
    "    - with_product: Tipo Bool _(Permite conocer si la encuesta va ligada con un producto o es independiente)_\n",
    "\n",
    "    - product_id: Tipo Int _(Si va ligada a un producto, este campo será del identificador del producto)_\n",
    "\n",
    "    - product_name: Tipo Char _(Si va ligada a un producto, este campo será el nombre del producto)_\n",
    "\n",
    "    - description: Tipo Char _(Respuesta a la encuesta o pregunta del cliente)_\n",
    "\n",
    "    - score: Tipo Int _(Puntuación que le da el cliente)_\n",
    "\n",
    "3. °Variables que recibe: **POST**\n",
    "\n",
    "    - survey_id: Tipo Char _(Identificación de la encuesta)_.\n",
    "\n",
    "    - product_id: Tipo Int _(Si va ligada a un producto, este campo será del identificador del producto)_\n",
    "\n",
    "    - description: Tipo Char _(Respuesta a la encuesta o pregunta del cliente)_\n",
    "\n",
    "    - score: Tipo Int _(Puntuación que le da el cliente)_\n",
    "\n",
    "4. Nombre y ruta del HTML: **interaction/survey.html**\n",
    "    "
   ]
  }
 ],
 "metadata": {
  "language_info": {
   "name": "python"
  },
  "orig_nbformat": 4
 },
 "nbformat": 4,
 "nbformat_minor": 2
}
