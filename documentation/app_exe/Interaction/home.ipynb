{
 "cells": [
  {
   "cell_type": "markdown",
   "metadata": {},
   "source": [
    "Funcionamiento del Home de la aplicación"
   ]
  },
  {
   "cell_type": "markdown",
   "metadata": {},
   "source": [
    "1. °URL: **/**\n",
    "    \n",
    "    Devuelve el html para el home de la aplicación.\n",
    "\n",
    "2. °Variables que envía:\n",
    "\n",
    "    - user: Esta variable es para obtener datos del usuario como validar si ya tiene autenticada y devolverla al Home.\n",
    "\n",
    "3. °Variables que recibe:\n",
    "\n",
    "4. Nombre y ruta del HTML: **user/index.html**\n",
    "    "
   ]
  }
 ],
 "metadata": {
  "language_info": {
   "name": "python"
  },
  "orig_nbformat": 4
 },
 "nbformat": 4,
 "nbformat_minor": 2
}
