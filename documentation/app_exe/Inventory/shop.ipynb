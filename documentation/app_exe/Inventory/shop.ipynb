{
 "cells": [
  {
   "cell_type": "markdown",
   "metadata": {},
   "source": [
    "Funcionamiento para Traer los productos"
   ]
  },
  {
   "cell_type": "markdown",
   "metadata": {},
   "source": [
    "1. °URL: **shop/**\n",
    "    \n",
    "    Devuelve el html de todos los productos con lista de categorías.\n",
    "\n",
    "2. °Variables que envía:\n",
    "\n",
    "    - user: Esta variable es para obtener datos del usuario como validar si ya tiene autenticada y devolverla al Home.\n",
    "\n",
    "    - products_list: Lista de todos los productos que tendrán:\n",
    "    \n",
    "        - name: Tipo Char _(Nombre del producto)_\n",
    "        \n",
    "        - money_unit_price: Tipo Float _(Valor monetario unitario)_\n",
    "\n",
    "        - point_unit_price: Tipo Int _(Valor en puntos unitario)_\n",
    "\n",
    "        - quantity: Tipo Int _(Cantidad del producto)_\n",
    "\n",
    "        - weight: Tipo Float _(Peso del producto)_\n",
    "\n",
    "        - measure_unit: Tipo Char _(Unidad de medida del producto)_\n",
    "\n",
    "        - category_name: Tipo Int _(Cantidad del producto)_\n",
    "\n",
    "        - image_product: Tipo Char _(Url de la ubicación del archivo)_\n",
    "        \n",
    "    - categories_list: Lista de las categorías de los productos que tendrán:\n",
    "\n",
    "        - pk: Número de identificación de la categoría.\n",
    "\n",
    "        - name: Nombre de la categoría\n",
    "\n",
    "    - shopping_car_quantity: Tipo int (Cantidad de productos en el carrito actual).\n",
    "\n",
    "3. °Variables que recibe:\n",
    "\n",
    "4. Nombre y ruta del HTML: **inventory/products_shop.html**\n",
    "    "
   ]
  },
  {
   "cell_type": "markdown",
   "metadata": {},
   "source": [
    "Funcionamiento para Traer Información del Producto Seleccionado"
   ]
  },
  {
   "cell_type": "markdown",
   "metadata": {},
   "source": [
    "1. °URL: **shop/product?id=**\n",
    "    \n",
    "    Devuelve el html de la información del producto, la url funciona por **GET** donde en **shop/product?id=** le sigue el ID de cada producto para hacer más fácil el manejo. _Por ejemplo: shop/product?id=5_\n",
    "\n",
    "2. °Variables que envía:\n",
    "\n",
    "    - user: Esta variable es para obtener datos del usuario como validar si ya tiene autenticada y devolverla al Home.\n",
    "    \n",
    "    - product_id: Tipo Int _(Identificación del producto)_\n",
    "    \n",
    "    - name: Tipo Char _(Nombre del producto)_\n",
    "    \n",
    "    - money_unit_price: Tipo Float _(Valor monetario unitario)_\n",
    "\n",
    "    - point_unit_price: Tipo Int _(Valor en puntos unitario)_\n",
    "\n",
    "    - quantity: Tipo Int _(Cantidad del producto)_\n",
    "\n",
    "    - weight: Tipo Float _(Peso del producto)_\n",
    "\n",
    "    - measure_unit: Tipo Char _(Unidad de medida del producto)_\n",
    "\n",
    "    - category_name: Tipo Int _(Cantidad del producto)_\n",
    "\n",
    "    - image_product: Tipo Char _(Url del producto)_\n",
    "\n",
    "    - shopping_car_quantity: Cantidad de productos añadidos al carrito. Tipo Int\n",
    "\n",
    "3. °Variables que recibe:\n",
    "\n",
    "4. Nombre y ruta del HTML: **inventory/products_shop.html**\n",
    "    "
   ]
  }
 ],
 "metadata": {
  "language_info": {
   "name": "python"
  },
  "orig_nbformat": 4
 },
 "nbformat": 4,
 "nbformat_minor": 2
}
