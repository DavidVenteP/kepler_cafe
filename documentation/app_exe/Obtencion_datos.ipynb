{
 "cells": [
  {
   "cell_type": "markdown",
   "metadata": {},
   "source": [
    "#### Esta será la página principal de la documentación para conocer cómo enviar y recibir información desde el Back de la Aplicación al Front."
   ]
  },
  {
   "cell_type": "markdown",
   "metadata": {},
   "source": [
    "Para usar redireccionamiento como lo que se usa en <code>\"a href\"</code> se necesita usar <code>{% url 'nombre_url' %}</code>\n",
    "\n",
    "También se puede usar la dirección directa como es normal, <code>/admin</code>\n",
    "\n",
    "<bold>Los nombres los URL o direcciones directas, las iré especificando en cada documento</bold>"
   ]
  },
  {
   "cell_type": "markdown",
   "metadata": {},
   "source": [
    "Siempre en cada HTML, se requiere que pongan de primero en cada línea <code>{% load static %}</code>"
   ]
  }
 ],
 "metadata": {
  "language_info": {
   "name": "python"
  },
  "orig_nbformat": 4
 },
 "nbformat": 4,
 "nbformat_minor": 2
}
