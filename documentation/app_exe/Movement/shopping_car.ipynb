{
 "cells": [
  {
   "cell_type": "markdown",
   "metadata": {},
   "source": [
    "Funcionamiento de Crear Carrito de Compras de un Producto"
   ]
  },
  {
   "cell_type": "markdown",
   "metadata": {},
   "source": [
    "1. °URL: **/shopping_car/add/** **POST AJAX**\n",
    "    \n",
    "    Devuelve un JSON con la información de errores si hubo y la cantidad de productos en el carrito. Esta función es para añadir productos al carrito de compras.\n",
    "\n",
    "2. °Variables que envía:\n",
    "\n",
    "    - errors: Es una lista de diccionarios con los errores que se hayan realizado, cada registro de la lista es un diccionario con las llaves:\n",
    "\n",
    "        - title: Título del error. Tipo Char\n",
    "\n",
    "        - content: Descripción del error. Tipo Char\n",
    "\n",
    "    - shopping_car_quantity: Tipo int (Cantidad de productos en el carrito actual).\n",
    "\n",
    "3. °Variables que recibe:\n",
    "\n",
    "    - product_id: Tipo Int _(ID del producto elegido para añdir al carrito)_\n",
    "\n",
    "    - quantity: Tipo Int _(Cantidad del producto escogido)_\n",
    "\n",
    "    - description: Tipo Char(200) _(Descripción personalizada que el cliente quiera elegir, puede ser nulo)_\n",
    "\n",
    "4. Nombre y ruta del HTML\n",
    "    "
   ]
  },
  {
   "cell_type": "markdown",
   "metadata": {},
   "source": [
    "Funcionamiento de Remover un Producto del Carrito de Compras"
   ]
  },
  {
   "cell_type": "markdown",
   "metadata": {},
   "source": [
    "1. °URL: **/shopping_car/remove/** **POST AJAX**\n",
    "    \n",
    "    Devuelve un JSON con la información de errores si hubo y la cantidad de productos en el carrito. Esta función tiene el propósito de eliminar un producto del carrito de compras.\n",
    "\n",
    "2. °Variables que envía:\n",
    "\n",
    "    - errors: Es una lista de diccionarios con los errores que se hayan realizado, cada registro de la lista es un diccionario con las llaves:\n",
    "\n",
    "        - title: Título del error. Tipo Char\n",
    "\n",
    "        - content: Descripción del error. Tipo Char\n",
    "\n",
    "    - shopping_car_quantity: Tipo int (Cantidad de productos en el carrito actual).\n",
    "\n",
    "3. °Variables que recibe:\n",
    "\n",
    "    - shopping_car_id: Tipo Int _(ID del carrito del producto elegido para remover)_\n",
    "\n",
    "4. Nombre y ruta del HTML.\n",
    "    "
   ]
  },
  {
   "cell_type": "markdown",
   "metadata": {},
   "source": [
    "Funcionamiento de Listar Carrito de Compras del Usuario"
   ]
  },
  {
   "cell_type": "markdown",
   "metadata": {},
   "source": [
    "1. °URL: **/shopping_car/** **GET**\n",
    "    \n",
    "    Devuelve un HTML con la lista de productos que hemos añadido al carrito con su descripción correspondiente.\n",
    "\n",
    "2. °Variables que envía:\n",
    "\n",
    "    - errors: Es una lista de diccionarios con los errores que se hayan realizado, cada registro de la lista es un diccionario con las llaves:\n",
    "\n",
    "        - title: Título del error. Tipo Char\n",
    "\n",
    "        - content: Descripción del error. Tipo Char\n",
    "\n",
    "    - shopping_car_quantity: Tipo int (Cantidad de productos en el carrito actual).\n",
    "\n",
    "    - shopping_car_list: Lista de productos que se han añadido al carrito con la siguiente información:\n",
    "\n",
    "        - pk: Tipo Int _(Identificador del producto del carrito)_\n",
    "        \n",
    "        - name_product: Tipo Char _(Nombre del producto seleccionado)_\n",
    "        \n",
    "        - quantity_shopping_car: Tipo Int _(Cantidad seleccionada del producto)_\n",
    "        \n",
    "        - money_unit_price: Tipo Float _(Valor monetario por unidad)_\n",
    "\n",
    "        - money_total_price: Tipo Float _(Valor total monetario)_\n",
    "        \n",
    "        - point_unit_price: Tipo Float _(Valor en puntos por unidad)_\n",
    "\n",
    "        - point_total_price: Tipo Float _(Valor total en puntos)_\n",
    "        \n",
    "        - image_product: Tipo Char _(Url de la imagen del producto seleccionado)_\n",
    "        \n",
    "    - use_points: Tipo Bool _(Indicará si usará todos los puntos posibles para realizar la compra de todos los productos)_\n",
    "\n",
    "3. °Variables que recibe. **POST FORM**\n",
    "\n",
    "    - use_points: Tipo Bool _(Indicará si se usarán todos los puntos disponibles para la compra y el excedente de forma monetaria)_\n",
    "\n",
    "4. Nombre y ruta del HTML: **movement/shopping_car.html**\n",
    "    "
   ]
  }
 ],
 "metadata": {
  "language_info": {
   "name": "python"
  },
  "orig_nbformat": 4
 },
 "nbformat": 4,
 "nbformat_minor": 2
}
